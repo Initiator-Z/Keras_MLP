{
  "nbformat": 4,
  "nbformat_minor": 0,
  "metadata": {
    "kernelspec": {
      "name": "python3",
      "display_name": "Python 3"
    },
    "language_info": {
      "codemirror_mode": {
        "name": "ipython",
        "version": 3
      },
      "file_extension": ".py",
      "mimetype": "text/x-python",
      "name": "python",
      "nbconvert_exporter": "python",
      "pygments_lexer": "ipython3",
      "version": "3.7.6"
    },
    "colab": {
      "name": "Project1.ipynb",
      "provenance": [],
      "collapsed_sections": [
        "vvnsK2pqKRuU",
        "Thwez2x2ueq4"
      ],
      "include_colab_link": true
    }
  },
  "cells": [
    {
      "cell_type": "markdown",
      "metadata": {
        "id": "view-in-github",
        "colab_type": "text"
      },
      "source": [
        "<a href=\"https://colab.research.google.com/github/Initiator-Z/Project_Zero/blob/master/42028A1.ipynb\" target=\"_parent\"><img src=\"https://colab.research.google.com/assets/colab-badge.svg\" alt=\"Open In Colab\"/></a>"
      ]
    },
    {
      "cell_type": "markdown",
      "metadata": {
        "id": "I4r9E_uyJ8jP",
        "colab_type": "text"
      },
      "source": [
        "# 42028 Deep Learning and Convolutional Networks Assignment 1"
      ]
    },
    {
      "cell_type": "markdown",
      "metadata": {
        "id": "zUWY0rwFRXLC",
        "colab_type": "text"
      },
      "source": [
        "# **Dataset Import**"
      ]
    },
    {
      "cell_type": "code",
      "metadata": {
        "id": "1LWweRv9gMsU",
        "colab_type": "code",
        "outputId": "f85ca829-eb16-46d9-d515-d5dbca7f30ea",
        "colab": {
          "base_uri": "https://localhost:8080/",
          "height": 33
        }
      },
      "source": [
        "from google.colab import drive\n",
        "drive.mount('/content/gdrive')"
      ],
      "execution_count": 0,
      "outputs": [
        {
          "output_type": "stream",
          "text": [
            "Drive already mounted at /content/gdrive; to attempt to forcibly remount, call drive.mount(\"/content/gdrive\", force_remount=True).\n"
          ],
          "name": "stdout"
        }
      ]
    },
    {
      "cell_type": "code",
      "metadata": {
        "id": "isg_ZnAgf-l_",
        "colab_type": "code",
        "colab": {}
      },
      "source": [
        "# import packges and load dataset\n",
        "\n",
        "import numpy as np\n",
        "import matplotlib.pyplot as plt\n",
        "from skimage import feature\n",
        "from sklearn.svm import SVC\n",
        "from sklearn.neighbors import KNeighborsClassifier\n",
        "from sklearn import metrics\n",
        "%matplotlib inline\n",
        "import cv2\n",
        "import seaborn as sns\n",
        "\n",
        "def load_mnist(path, kind='train'):\n",
        "    import os\n",
        "    import gzip\n",
        "    import numpy as np\n",
        "\n",
        "    labels_path = os.path.join(path,'%s-labels-idx1-ubyte.gz'% kind)\n",
        "    images_path = os.path.join(path,'%s-images-idx3-ubyte.gz'% kind)\n",
        "\n",
        "    with gzip.open(labels_path, 'rb') as lbpath:labels = np.frombuffer(lbpath.read(), dtype=np.uint8,offset=8)\n",
        "\n",
        "    with gzip.open(images_path, 'rb') as imgpath:images = np.frombuffer(imgpath.read(), dtype=np.uint8,offset=16).reshape(len(labels), 784)\n",
        "\n",
        "    return images, labels\n",
        "\n",
        "X_train, y_train = load_mnist('/content/gdrive/My Drive/42028-DL-CNN-2020/Assignment1/Data', kind='train')\n",
        "X_test, y_test = load_mnist('/content/gdrive/My Drive/42028-DL-CNN-2020/Assignment1/Data', kind='t10k')\n",
        "\n",
        "labelNames = [\"0\", \"1\", \"2\", \"3\", \"4\", \"5\", \"6\", \"7\", \"8\", \"9\"]"
      ],
      "execution_count": 0,
      "outputs": []
    },
    {
      "cell_type": "code",
      "metadata": {
        "id": "QzhXvruzf-mK",
        "colab_type": "code",
        "outputId": "a15ae687-0b64-4aa2-d05c-97dfa80a4202",
        "colab": {
          "base_uri": "https://localhost:8080/",
          "height": 50
        }
      },
      "source": [
        "X_train=X_train.reshape(-1,28,28)\n",
        "X_test=X_test.reshape(-1,28,28)\n",
        "\n",
        "print(\"Train dataset after reshaping:{}\".format(np.shape(X_train)))\n",
        "print(\"Test dataset after reshaping :{}\".format(np.shape(X_test)))"
      ],
      "execution_count": 0,
      "outputs": [
        {
          "output_type": "stream",
          "text": [
            "Train dataset after reshaping:(60000, 28, 28)\n",
            "Test dataset after reshaping :(10000, 28, 28)\n"
          ],
          "name": "stdout"
        }
      ]
    },
    {
      "cell_type": "markdown",
      "metadata": {
        "id": "mg3KrQZgQLLw",
        "colab_type": "text"
      },
      "source": [
        "#**Feature Extraction**"
      ]
    },
    {
      "cell_type": "code",
      "metadata": {
        "id": "Pc7MSkAnf-mO",
        "colab_type": "code",
        "colab": {}
      },
      "source": [
        "# LBP feature extraction\n",
        "\n",
        "class LocalBinaryPatterns:\n",
        "    def __init__(self, numPoints, radius):\n",
        "        self.numPoints = numPoints\n",
        "        self.radius = radius\n",
        "        \n",
        "    def LBPfeatures(self, image, eps=1e-7):\n",
        "        lbp = feature.local_binary_pattern(image, self.numPoints, self.radius, method='uniform')\n",
        "        (hist, _) = np.histogram(lbp.ravel(),bins=np.arange(0, self.numPoints+3),range=(0, self.numPoints+2))\n",
        "        hist = hist.astype('float')\n",
        "        hist /= (hist.sum()+eps)\n",
        "        return hist\n",
        "\n",
        "desc = LocalBinaryPatterns(24,8)\n",
        "lbp_data_train = []\n",
        "lbp_label_train = []\n",
        "\n",
        "for img_index in range(len(X_train)):\n",
        "    image = (X_train[img_index])\n",
        "    hist = desc.LBPfeatures(image)\n",
        "    lbp_label_train.append(y_train[img_index])\n",
        "    lbp_data_train.append(hist)"
      ],
      "execution_count": 0,
      "outputs": []
    },
    {
      "cell_type": "code",
      "metadata": {
        "id": "lKQDpg-Lf-mU",
        "colab_type": "code",
        "colab": {}
      },
      "source": [
        "# HOG feature extraction\n",
        "\n",
        "hog_data_train = []\n",
        "hog_label_train = []\n",
        "\n",
        "for img_index in range(len(X_train)):\n",
        "  image = (X_train[img_index])\n",
        "  H = feature.hog(image, orientations=9, pixels_per_cell=(4, 4),\n",
        "                  cells_per_block=(2, 2), transform_sqrt=True, block_norm=\"L1-sqrt\")\n",
        " \n",
        "  hog_data_train.append(H)\n",
        "  hog_label_train.append(y_train[img_index])"
      ],
      "execution_count": 0,
      "outputs": []
    },
    {
      "cell_type": "code",
      "metadata": {
        "id": "NmuSpmc5f-mW",
        "colab_type": "code",
        "outputId": "f0937acc-abec-4594-b760-8044243f404a",
        "colab": {
          "base_uri": "https://localhost:8080/",
          "height": 33
        }
      },
      "source": [
        "# Feature vector extraction\n",
        "\n",
        "raw_data_train = []\n",
        "raw_label_train = []\n",
        "\n",
        "for img_index in range(len(X_train)):\n",
        "    image = (X_train[img_index])\n",
        "    raw = image.flatten()\n",
        "    \n",
        "    raw_label_train.append(y_train[img_index])\n",
        "    raw_data_train.append(raw)\n",
        "\n",
        "np.shape(raw_data_train)"
      ],
      "execution_count": 0,
      "outputs": [
        {
          "output_type": "execute_result",
          "data": {
            "text/plain": [
              "(60000, 784)"
            ]
          },
          "metadata": {
            "tags": []
          },
          "execution_count": 17
        }
      ]
    },
    {
      "cell_type": "markdown",
      "metadata": {
        "colab_type": "text",
        "id": "vvnsK2pqKRuU"
      },
      "source": [
        "# K Nearest Neighbour\n"
      ]
    },
    {
      "cell_type": "code",
      "metadata": {
        "colab_type": "code",
        "id": "DuFOEcUFKRuR",
        "colab": {}
      },
      "source": [
        "# train and evaluate KNN classifier on LBP feature\n",
        "\n",
        "knn = KNeighborsClassifier(n_neighbors = 6)\n",
        "knn.fit(lbp_data_train, lbp_label_train)\n",
        "\n",
        "predictions=[]\n",
        "predict_label=[]\n",
        "for im_index in range(len(X_test)):\n",
        "  imag = X_test[im_index]\n",
        "  histo = desc.LBPfeatures(imag)\n",
        "  prediction = knn.predict(histo.reshape(1, -1))\n",
        "  predictions.append(prediction)\n",
        "  predict_label.append(y_test[im_index])\n",
        "\n",
        "accuracy_knn_lbp = metrics.accuracy_score(y_test, predictions)\n",
        "print(\"Test set accuracy of KNN on LBP:\",accuracy_knn_lbp)"
      ],
      "execution_count": 0,
      "outputs": []
    },
    {
      "cell_type": "code",
      "metadata": {
        "colab_type": "code",
        "id": "szY0IYIVKRuP",
        "colab": {}
      },
      "source": [
        "# confusion matrix for KNN on LBP\n",
        "\n",
        "cm  = metrics.confusion_matrix(y_test, predictions)\n",
        "plt.figure(figsize=(9,9))\n",
        "sns.heatmap(cm, annot=True, fmt=\".3f\", linewidths=.5, square = True, cmap = 'Blues_r');\n",
        "plt.ylabel('Actual label');\n",
        "plt.xlabel('Predicted label');\n",
        "all_sample_title = 'Accuracy Score: {0}'.format(accuracy_knn_lbp)\n",
        "plt.title(all_sample_title, size = 15);"
      ],
      "execution_count": 0,
      "outputs": []
    },
    {
      "cell_type": "code",
      "metadata": {
        "colab_type": "code",
        "id": "eGnCrAQpKRuK",
        "colab": {}
      },
      "source": [
        "# train and evaluate KNN classifier on HOG feature\n",
        "\n",
        "knn = KNeighborsClassifier(n_neighbors = 6)\n",
        "knn.fit(hog_data_train, hog_label_train)\n",
        "\n",
        "predict_test = []\n",
        "label_test = []\n",
        "data_test=[]\n",
        "for img_ind in range(len(X_test)):\n",
        "  img=X_test[img_ind]\n",
        "  H = feature.hog(img, orientations=9, pixels_per_cell=(4, 4),cells_per_block=(2, 2), transform_sqrt=True, block_norm=\"L1-sqrt\")\n",
        "  pred = knn.predict(H.reshape(1, -1))[0]\n",
        "  predict_test.append(pred)\n",
        "  data_test.append(H)\n",
        "  label_test.append(y_test[img_ind])\n",
        "  \n",
        "accuracy_knn_hog = metrics.accuracy_score(y_test, predict_test)\n",
        "print(\"Accuracy on test dataset:\",accuracy_knn_hog)"
      ],
      "execution_count": 0,
      "outputs": []
    },
    {
      "cell_type": "code",
      "metadata": {
        "colab_type": "code",
        "id": "Im-Zpv4LKRuA",
        "colab": {}
      },
      "source": [
        "# confusion matrix for KNN on HOG\n",
        "cm  = metrics.confusion_matrix(y_test, predict_test)\n",
        "plt.figure(figsize=(9,9))\n",
        "sns.heatmap(cm, annot=True, fmt=\".3f\", linewidths=.5, square = True, cmap = 'Blues_r');\n",
        "plt.ylabel('Actual label');\n",
        "plt.xlabel('Predicted label');\n",
        "all_sample_title = 'Accuracy Score: {0}'.format(accuracy_knn_hog)\n",
        "plt.title(all_sample_title, size = 15);"
      ],
      "execution_count": 0,
      "outputs": []
    },
    {
      "cell_type": "code",
      "metadata": {
        "colab_type": "code",
        "id": "3OkK5IbNKRt2",
        "colab": {}
      },
      "source": [
        "# train and evaluate KNN on raw input\n",
        "\n",
        "knn = KNeighborsClassifier(n_neighbors = 6)\n",
        "knn.fit(raw_data_train, raw_label_train)\n",
        "\n",
        "predicts = []\n",
        "label_test = []\n",
        "for img_index in range(len(X_test)):\n",
        "    image = (X_test[img_index])\n",
        "    raw = image.flatten()\n",
        "    pred = knn.predict(raw.reshape(1,-1))\n",
        "    predicts.append(pred)\n",
        "    label_test.append(y_test[img_ind])\n",
        "\n",
        "accuracy_knn_raw = metrics.accuracy_score(y_test, predicts)\n",
        "print(\"Test set Accuracy of KNN: \",accuracy_knn_raw)"
      ],
      "execution_count": 0,
      "outputs": []
    },
    {
      "cell_type": "code",
      "metadata": {
        "colab_type": "code",
        "id": "e-gtCFzLKRts",
        "colab": {}
      },
      "source": [
        "# confusion matrix for KNN on raw input\n",
        "cm  = metrics.confusion_matrix(y_test, predicts)\n",
        "plt.figure(figsize=(9,9))\n",
        "sns.heatmap(cm, annot=True, fmt=\".3f\", linewidths=.5, square = True, cmap = 'Blues_r');\n",
        "plt.ylabel('Actual label');\n",
        "plt.xlabel('Predicted label');\n",
        "all_sample_title = 'Accuracy Score: {0}'.format(accuracy_knn_raw)\n",
        "plt.title(all_sample_title, size = 15);"
      ],
      "execution_count": 0,
      "outputs": []
    },
    {
      "cell_type": "code",
      "metadata": {
        "colab_type": "code",
        "id": "ZGURENbIKRtF",
        "colab": {}
      },
      "source": [
        "# Examples of knn prediction on test set with raw inputs\n",
        "images = []\n",
        " \n",
        "for i in np.random.choice(np.arange(0, len(y_test)), size=(16,)):\n",
        "  image = (X_test[i]).flatten()\n",
        "  prediction = knn.predict(image.reshape(1, -1))\n",
        "  label = labelNames[prediction[0]]\n",
        "  orig_label=labelNames[y_test[i]]\n",
        "  image = X_test[i]\n",
        "  image = cv2.merge([image] * 3)\n",
        "  image = cv2.resize(image, (96, 96), interpolation=cv2.INTER_LINEAR)\n",
        "  cv2.putText(image, label, (5, 20), cv2.FONT_HERSHEY_SIMPLEX, 0.50, color, 2)\n",
        "  images.append(image)\n",
        "\n",
        "fig = plt.figure()\n",
        "ax1 = fig.add_subplot(2,2,1)\n",
        "ax1.imshow(images[1])\n",
        "print(orig_label[:])\n",
        "ax2 = fig.add_subplot(2,2,2)\n",
        "ax2.imshow(images[2])\n",
        "ax3 = fig.add_subplot(2,2,3)\n",
        "ax3.imshow(images[3])\n",
        "ax4 = fig.add_subplot(2,2,4)\n",
        "ax4.imshow(images[4])"
      ],
      "execution_count": 0,
      "outputs": []
    },
    {
      "cell_type": "markdown",
      "metadata": {
        "id": "Thwez2x2ueq4",
        "colab_type": "text"
      },
      "source": [
        "# Support Vector Machine"
      ]
    },
    {
      "cell_type": "code",
      "metadata": {
        "id": "OmRSmtVKf-ml",
        "colab_type": "code",
        "colab": {}
      },
      "source": [
        "# train and evaluate SVM classifier on LBP feature\n",
        "\n",
        "svm = SVC(kernel='rbf',C=1000, random_state=42)\n",
        "svm.fit(lbp_data_train, lbp_label_train)\n",
        "\n",
        "predictions=[]\n",
        "predict_label=[]\n",
        "for im_index in range(len(X_test)):\n",
        "  imag = X_test[im_index]\n",
        "  histo = desc.LBPfeatures(imag)\n",
        "  prediction = svm.predict(histo.reshape(1, -1))\n",
        "  predictions.append(prediction)\n",
        "  predict_label.append(y_test[im_index])\n",
        "\n",
        "accuracy_svm_lbp = metrics.accuracy_score(y_test, predictions)\n",
        "print(\"Test set accuracy of KNN on LBP:\",accuracy_svm_lbp)"
      ],
      "execution_count": 0,
      "outputs": []
    },
    {
      "cell_type": "code",
      "metadata": {
        "id": "hHDF0fBjf-mn",
        "colab_type": "code",
        "colab": {}
      },
      "source": [
        "# confusion matrix for SVM on LBP\n",
        "\n",
        "cm  = metrics.confusion_matrix(y_test, predictions)\n",
        "plt.figure(figsize=(9,9))\n",
        "sns.heatmap(cm, annot=True, fmt=\".3f\", linewidths=.5, square = True, cmap = 'Blues_r');\n",
        "plt.ylabel('Actual label');\n",
        "plt.xlabel('Predicted label');\n",
        "all_sample_title = 'Accuracy Score: {0}'.format(accuracy_svm_lbp)\n",
        "plt.title(all_sample_title, size = 15);"
      ],
      "execution_count": 0,
      "outputs": []
    },
    {
      "cell_type": "code",
      "metadata": {
        "id": "xNLcn06rf-mr",
        "colab_type": "code",
        "colab": {}
      },
      "source": [
        "# train and evaluate SVM classifier on HOG feature\n",
        "\n",
        "svm = SVC(kernel='rbf',C=1000, random_state=42)\n",
        "svm.fit(hog_data_train, hog_label_train)\n",
        "\n",
        "predict_test = []\n",
        "label_test = []\n",
        "data_test=[]\n",
        "for img_index in range(len(X_test)):\n",
        "  img=X_test[img_index]\n",
        "  H = feature.hog(img, orientations=9, pixels_per_cell=(4, 4),cells_per_block=(2, 2), transform_sqrt=True, block_norm=\"L1-sqrt\")\n",
        "  pred = svm.predict(H.reshape(1, -1))[0]\n",
        "  predict_test.append(pred)\n",
        "  data_test.append(H)\n",
        "  label_test.append(y_test[img_index])\n",
        "\n",
        "accuracy_svm_hog = metrics.accuracy_score(y_test, predict_test)\n",
        "print(\"Accuracy on test dataset:\",accuracy_svm_hog)"
      ],
      "execution_count": 0,
      "outputs": []
    },
    {
      "cell_type": "code",
      "metadata": {
        "id": "temF0N_af-mu",
        "colab_type": "code",
        "colab": {}
      },
      "source": [
        "# confusion matrix for SVM on HOG\n",
        "cm  = metrics.confusion_matrix(y_test, predict_test)\n",
        "plt.figure(figsize=(9,9))\n",
        "sns.heatmap(cm, annot=True, fmt=\".3f\", linewidths=.5, square = True, cmap = 'Blues_r');\n",
        "plt.ylabel('Actual label');\n",
        "plt.xlabel('Predicted label');\n",
        "all_sample_title = 'Accuracy Score: {0}'.format(accuracy_svm_hog)\n",
        "plt.title(all_sample_title, size = 15);"
      ],
      "execution_count": 0,
      "outputs": []
    },
    {
      "cell_type": "code",
      "metadata": {
        "id": "JN-nZobeIbK1",
        "colab_type": "code",
        "colab": {}
      },
      "source": [
        "# Examples of svm prediction on HOG feature\n",
        "\n",
        "images = []\n",
        "orig_labels=[]\n",
        "for i in np.random.choice(np.arange(0, len(y_test)), size=(16,)):\n",
        "  test_img = (X_test[i])\n",
        "  H1 = feature.hog(test_img, orientations=9, pixels_per_cell=(4, 4),cells_per_block=(2, 2), transform_sqrt=True, block_norm=\"L2-Hys\")\n",
        "  pred = svm.predict(H1.reshape(1, -1))[0]\n",
        "  label = labelNames[pred]\n",
        "  orig_labels.append(labelNames[y_test[i]])\n",
        "  color = (0, 255, 0)\n",
        "  test_img = cv2.merge([test_img] * 3)\n",
        "  test_img = cv2.resize(test_img, (96, 96), interpolation=cv2.INTER_LINEAR)\n",
        "  cv2.putText(test_img, label, (5, 20), cv2.FONT_HERSHEY_SIMPLEX, 0.50, color, 2)\n",
        "  images.append(test_img)\n",
        "\n",
        "orig_labels[1]\n",
        "fig = plt.figure()\n",
        "ax1 = fig.add_subplot(2,2,1)\n",
        "ax1.imshow(images[1])\n",
        "print(orig_labels[1])\n",
        "ax2 = fig.add_subplot(2,2,2)\n",
        "ax2.imshow(images[2])\n",
        "print(orig_labels[2])\n",
        "ax3 = fig.add_subplot(2,2,3)\n",
        "ax3.imshow(images[3])\n",
        "print(orig_labels[3])\n",
        "ax4 = fig.add_subplot(2,2,4)\n",
        "ax4.imshow(images[4])\n",
        "print(orig_labels[4])"
      ],
      "execution_count": 0,
      "outputs": []
    },
    {
      "cell_type": "code",
      "metadata": {
        "id": "HwCR_jhuf-mw",
        "colab_type": "code",
        "colab": {}
      },
      "source": [
        "# train and evaluate SVM on raw input\n",
        "\n",
        "svm = SVC(kernel='rbf',C=1000, random_state=42)\n",
        "svm.fit(raw_data_train, raw_label_train)\n",
        "\n",
        "predicts = []\n",
        "label_test = []\n",
        "for img_index in range(len(X_test)):\n",
        "    image = (X_test[img_index])\n",
        "    raw = image.flatten()\n",
        "    pred = svm.predict(raw.reshape(1,-1))\n",
        "    predicts.append(pred)\n",
        "    label_test.append(y_test[img_index])\n",
        "\n",
        "accuracy_svm_raw = metrics.accuracy_score(y_test, predicts)\n",
        "print(\"Test set Accuracy of KNN: \",accuracy_svm_raw)"
      ],
      "execution_count": 0,
      "outputs": []
    },
    {
      "cell_type": "code",
      "metadata": {
        "id": "AJKV_UQlf-my",
        "colab_type": "code",
        "colab": {}
      },
      "source": [
        "# confusion matrix for SVM on raw input\n",
        "\n",
        "cm  = metrics.confusion_matrix(y_test, predicts)\n",
        "plt.figure(figsize=(9,9))\n",
        "sns.heatmap(cm, annot=True, fmt=\".3f\", linewidths=.5, square = True, cmap = 'Blues_r');\n",
        "plt.ylabel('Actual label');\n",
        "plt.xlabel('Predicted label');\n",
        "all_sample_title = 'Accuracy Score: {0}'.format(accuracy_svm_raw)\n",
        "plt.title(all_sample_title, size = 15);"
      ],
      "execution_count": 0,
      "outputs": []
    },
    {
      "cell_type": "markdown",
      "metadata": {
        "id": "qQHtRazCuimT",
        "colab_type": "text"
      },
      "source": [
        "# Artificial Neural Network"
      ]
    },
    {
      "cell_type": "code",
      "metadata": {
        "id": "dJhIT1Jff-m0",
        "colab_type": "code",
        "outputId": "a9685c48-620b-4b99-fd67-9826782f631b",
        "colab": {
          "base_uri": "https://localhost:8080/",
          "height": 366
        }
      },
      "source": [
        "# train and evaluate neural network on LBP feature\n",
        "\n",
        "import tensorflow as tf\n",
        "from tensorflow import keras\n",
        "\n",
        "lbp_data_train = np.array(lbp_data_train)\n",
        "lbp_label_train = np.array(lbp_label_train)\n",
        "\n",
        "lbp_image_valid = lbp_data_train[:5000]\n",
        "lbp_labels_valid = lbp_label_train[:5000]\n",
        "lbp_image_train = lbp_data_train[5000:]\n",
        "lbp_labels_train = lbp_label_train[5000:]\n",
        "\n",
        "model = tf.keras.models.Sequential([tf.keras.layers.Dense(256, activation=tf.nn.relu), tf.keras.layers.Dense(10, activation=tf.nn.softmax)])\n",
        "\n",
        "model.compile(optimizer='nadam', loss = 'sparse_categorical_crossentropy', metrics=['accuracy'])\n",
        "\n",
        "H = model.fit(lbp_image_train, lbp_labels_train, epochs=10, validation_data=(lbp_image_valid, lbp_labels_valid))\n",
        "\n",
        "lbp_data_test = []\n",
        "lbp_label_test = []\n",
        "\n",
        "for img_index in range(len(X_test)):\n",
        "    image = (X_test[img_index])\n",
        "    hist = desc.LBPfeatures(image)\n",
        "    lbp_label_test.append(y_test[img_index])\n",
        "    lbp_data_test.append(hist)\n",
        "\n",
        "acc1 = model.evaluate(np.array(lbp_data_test),np.array(lbp_label_test))"
      ],
      "execution_count": 0,
      "outputs": [
        {
          "output_type": "stream",
          "text": [
            "Epoch 1/10\n",
            "1719/1719 [==============================] - 3s 2ms/step - loss: 1.8828 - accuracy: 0.3306 - val_loss: 1.6553 - val_accuracy: 0.4308\n",
            "Epoch 2/10\n",
            "1719/1719 [==============================] - 3s 2ms/step - loss: 1.5945 - accuracy: 0.4389 - val_loss: 1.5539 - val_accuracy: 0.4462\n",
            "Epoch 3/10\n",
            "1719/1719 [==============================] - 3s 2ms/step - loss: 1.5314 - accuracy: 0.4596 - val_loss: 1.5052 - val_accuracy: 0.4726\n",
            "Epoch 4/10\n",
            "1719/1719 [==============================] - 3s 2ms/step - loss: 1.5051 - accuracy: 0.4714 - val_loss: 1.4931 - val_accuracy: 0.4720\n",
            "Epoch 5/10\n",
            "1719/1719 [==============================] - 3s 2ms/step - loss: 1.4874 - accuracy: 0.4779 - val_loss: 1.4679 - val_accuracy: 0.4804\n",
            "Epoch 6/10\n",
            "1719/1719 [==============================] - 3s 2ms/step - loss: 1.4723 - accuracy: 0.4843 - val_loss: 1.4530 - val_accuracy: 0.4862\n",
            "Epoch 7/10\n",
            "1719/1719 [==============================] - 3s 2ms/step - loss: 1.4586 - accuracy: 0.4907 - val_loss: 1.4475 - val_accuracy: 0.4912\n",
            "Epoch 8/10\n",
            "1719/1719 [==============================] - 3s 2ms/step - loss: 1.4468 - accuracy: 0.4933 - val_loss: 1.4239 - val_accuracy: 0.4984\n",
            "Epoch 9/10\n",
            "1719/1719 [==============================] - 3s 2ms/step - loss: 1.4359 - accuracy: 0.4970 - val_loss: 1.4210 - val_accuracy: 0.4956\n",
            "Epoch 10/10\n",
            "1719/1719 [==============================] - 3s 2ms/step - loss: 1.4258 - accuracy: 0.5014 - val_loss: 1.4240 - val_accuracy: 0.4986\n",
            "313/313 [==============================] - 0s 1ms/step - loss: 1.4035 - accuracy: 0.5051\n"
          ],
          "name": "stdout"
        }
      ]
    },
    {
      "cell_type": "code",
      "metadata": {
        "id": "6AvvizujPJlx",
        "colab_type": "code",
        "colab": {}
      },
      "source": [
        "# Confusion matrix for nn on LBP\n",
        "\n",
        "y_pred = model.predict(np.array(lbp_data_test))\n",
        "pred = np.argmax(y_pred, axis=1)\n",
        "cm  = metrics.confusion_matrix(np.array(y_test), pred)\n",
        "plt.figure(figsize=(9,9))\n",
        "sns.heatmap(cm, annot=True, fmt=\".3f\", linewidths=.5, square = True, cmap = 'Blues_r');\n",
        "plt.ylabel('Actual label');\n",
        "plt.xlabel('Predicted label');\n",
        "all_sample_title = 'Test set Accuracy:{}'.format(acc1[1:])\n",
        "plt.title(all_sample_title, size = 15);"
      ],
      "execution_count": 0,
      "outputs": []
    },
    {
      "cell_type": "code",
      "metadata": {
        "id": "VNVE6Fo8jsUq",
        "colab_type": "code",
        "outputId": "ccfd4dae-a7f4-47c2-a8f7-e1df905833e8",
        "colab": {
          "base_uri": "https://localhost:8080/",
          "height": 366
        }
      },
      "source": [
        "# train and evaluate neural network on HOG feature\n",
        "\n",
        "hog_data_train = np.array(hog_data_train)\n",
        "hog_label_train = np.array(hog_label_train)\n",
        "\n",
        "hog_image_valid = hog_data_train[:5000]\n",
        "hog_labels_valid = hog_label_train[:5000]\n",
        "hog_image_train = hog_data_train[5000:]\n",
        "hog_labels_train = hog_label_train[5000:]\n",
        "\n",
        "model2 = tf.keras.models.Sequential([tf.keras.layers.Dense(256, activation=tf.nn.relu), tf.keras.layers.Dense(10, activation=tf.nn.softmax)])\n",
        "\n",
        "model2.compile(optimizer='nadam',loss = 'sparse_categorical_crossentropy',metrics=['accuracy'])\n",
        "\n",
        "H = model2.fit(hog_image_train, hog_labels_train, epochs=10,validation_data=(hog_image_valid, hog_labels_valid))\n",
        "\n",
        "hog_data_test = []\n",
        "hog_label_test = []\n",
        "for img_index in range(len(X_test)):\n",
        "  image = (X_test[img_index])\n",
        "  H = feature.hog(image, orientations=9, pixels_per_cell=(4, 4),\n",
        "                  cells_per_block=(2, 2), transform_sqrt=True, block_norm=\"L1-sqrt\")\n",
        "  hog_data_test.append(H)\n",
        "  hog_label_test.append(y_test[img_index])\n",
        "\n",
        "acc2 = model2.evaluate(np.array(hog_data_test),np.array(hog_label_test))\n"
      ],
      "execution_count": 0,
      "outputs": [
        {
          "output_type": "stream",
          "text": [
            "Epoch 1/10\n",
            "1719/1719 [==============================] - 19s 11ms/step - loss: 0.1126 - accuracy: 0.9666 - val_loss: 0.0773 - val_accuracy: 0.9748\n",
            "Epoch 2/10\n",
            "1719/1719 [==============================] - 19s 11ms/step - loss: 0.0490 - accuracy: 0.9843 - val_loss: 0.0513 - val_accuracy: 0.9822\n",
            "Epoch 3/10\n",
            "1719/1719 [==============================] - 19s 11ms/step - loss: 0.0302 - accuracy: 0.9899 - val_loss: 0.0481 - val_accuracy: 0.9842\n",
            "Epoch 4/10\n",
            "1719/1719 [==============================] - 20s 11ms/step - loss: 0.0209 - accuracy: 0.9933 - val_loss: 0.0434 - val_accuracy: 0.9858\n",
            "Epoch 5/10\n",
            "1719/1719 [==============================] - 20s 11ms/step - loss: 0.0137 - accuracy: 0.9956 - val_loss: 0.0422 - val_accuracy: 0.9880\n",
            "Epoch 6/10\n",
            "1719/1719 [==============================] - 19s 11ms/step - loss: 0.0119 - accuracy: 0.9960 - val_loss: 0.0412 - val_accuracy: 0.9882\n",
            "Epoch 7/10\n",
            "1719/1719 [==============================] - 19s 11ms/step - loss: 0.0078 - accuracy: 0.9975 - val_loss: 0.0559 - val_accuracy: 0.9860\n",
            "Epoch 8/10\n",
            "1719/1719 [==============================] - 19s 11ms/step - loss: 0.0085 - accuracy: 0.9969 - val_loss: 0.0617 - val_accuracy: 0.9838\n",
            "Epoch 9/10\n",
            "1719/1719 [==============================] - 19s 11ms/step - loss: 0.0048 - accuracy: 0.9985 - val_loss: 0.0586 - val_accuracy: 0.9856\n",
            "Epoch 10/10\n",
            "1719/1719 [==============================] - 20s 11ms/step - loss: 0.0072 - accuracy: 0.9977 - val_loss: 0.0521 - val_accuracy: 0.9872\n",
            "313/313 [==============================] - 1s 2ms/step - loss: 0.0703 - accuracy: 0.9830\n"
          ],
          "name": "stdout"
        }
      ]
    },
    {
      "cell_type": "code",
      "metadata": {
        "id": "4HWsDApiCC0k",
        "colab_type": "code",
        "colab": {}
      },
      "source": [
        "# Confusion matrix for nn on HOG\n",
        "\n",
        "y_pred = model2.predict(np.array(hog_data_test))\n",
        "pred = np.argmax(y_pred, axis=1)\n",
        "cm  = metrics.confusion_matrix(np.array(y_test), pred)\n",
        "plt.figure(figsize=(9,9))\n",
        "sns.heatmap(cm, annot=True, fmt=\".3f\", linewidths=.5, square = True, cmap = 'Blues_r');\n",
        "plt.ylabel('Actual label');\n",
        "plt.xlabel('Predicted label');\n",
        "all_sample_title = 'Test set Accuracy: {0}'.format(acc2[1:])\n",
        "plt.title(all_sample_title, size = 15);"
      ],
      "execution_count": 0,
      "outputs": []
    },
    {
      "cell_type": "code",
      "metadata": {
        "id": "Pk1rJN_Zf-m1",
        "colab_type": "code",
        "outputId": "36369423-2486-407f-988c-5d809eeec69a",
        "colab": {
          "base_uri": "https://localhost:8080/",
          "height": 366
        }
      },
      "source": [
        "# train and evaluate neural network on raw input\n",
        "\n",
        "import tensorflow as tf\n",
        "from tensorflow import keras\n",
        "\n",
        "raw_data_train = np.array(raw_data_train)\n",
        "raw_label_train = np.array((raw_label_train))\n",
        "\n",
        "raw_image_valid = np.array(raw_data_train[:5000])/255.0\n",
        "raw_labels_valid = raw_label_train[:5000]\n",
        "raw_image_train = np.array(raw_data_train[5000:])/255.0\n",
        "raw_labels_train = raw_label_train[5000:]\n",
        "\n",
        "model3 = tf.keras.models.Sequential([tf.keras.layers.Dense(256, activation=tf.nn.relu), tf.keras.layers.Dense(10, activation=tf.nn.softmax)])\n",
        "\n",
        "model3.compile(optimizer='nadam',loss = 'sparse_categorical_crossentropy',metrics=['accuracy'])\n",
        "\n",
        "H = model3.fit(raw_image_train, raw_labels_train, epochs=10,validation_data=(raw_image_valid, raw_labels_valid))\n",
        "\n",
        "X_test = X_test/255.0\n",
        "\n",
        "raw_data_test = []\n",
        "raw_label_test = []\n",
        "for img_index in range(len(X_test)):\n",
        "    image = (X_test[img_index])\n",
        "    raw = image.flatten()\n",
        "    raw_data_test.append(raw)\n",
        "    raw_label_test.append(y_test[img_index])\n",
        "\n",
        "acc3 = model3.evaluate(np.array(raw_data_test),np.array(raw_label_test))"
      ],
      "execution_count": 0,
      "outputs": [
        {
          "output_type": "stream",
          "text": [
            "Epoch 1/10\n",
            "1719/1719 [==============================] - 13s 8ms/step - loss: 0.2074 - accuracy: 0.9397 - val_loss: 0.0964 - val_accuracy: 0.9710\n",
            "Epoch 2/10\n",
            "1719/1719 [==============================] - 13s 8ms/step - loss: 0.0823 - accuracy: 0.9751 - val_loss: 0.0785 - val_accuracy: 0.9780\n",
            "Epoch 3/10\n",
            "1719/1719 [==============================] - 13s 8ms/step - loss: 0.0517 - accuracy: 0.9833 - val_loss: 0.0719 - val_accuracy: 0.9770\n",
            "Epoch 4/10\n",
            "1719/1719 [==============================] - 13s 7ms/step - loss: 0.0361 - accuracy: 0.9880 - val_loss: 0.0720 - val_accuracy: 0.9776\n",
            "Epoch 5/10\n",
            "1719/1719 [==============================] - 13s 8ms/step - loss: 0.0268 - accuracy: 0.9907 - val_loss: 0.0739 - val_accuracy: 0.9778\n",
            "Epoch 6/10\n",
            "1719/1719 [==============================] - 13s 8ms/step - loss: 0.0204 - accuracy: 0.9936 - val_loss: 0.0772 - val_accuracy: 0.9786\n",
            "Epoch 7/10\n",
            "1719/1719 [==============================] - 13s 8ms/step - loss: 0.0170 - accuracy: 0.9945 - val_loss: 0.0677 - val_accuracy: 0.9814\n",
            "Epoch 8/10\n",
            "1719/1719 [==============================] - 13s 8ms/step - loss: 0.0141 - accuracy: 0.9953 - val_loss: 0.0751 - val_accuracy: 0.9816\n",
            "Epoch 9/10\n",
            "1719/1719 [==============================] - 13s 8ms/step - loss: 0.0109 - accuracy: 0.9965 - val_loss: 0.0721 - val_accuracy: 0.9822\n",
            "Epoch 10/10\n",
            "1719/1719 [==============================] - 13s 8ms/step - loss: 0.0109 - accuracy: 0.9965 - val_loss: 0.1102 - val_accuracy: 0.9758\n",
            "313/313 [==============================] - 1s 3ms/step - loss: 0.1204 - accuracy: 0.9749\n"
          ],
          "name": "stdout"
        }
      ]
    },
    {
      "cell_type": "code",
      "metadata": {
        "id": "efxb5-aWCOuo",
        "colab_type": "code",
        "colab": {}
      },
      "source": [
        "# Confusion matrix for nn on raw inputs\n",
        "\n",
        "y_pred = model3.predict(np.array(raw_data_test))\n",
        "pred = np.argmax(y_pred, axis=1)\n",
        "cm  = metrics.confusion_matrix(np.array(y_test), pred)\n",
        "plt.figure(figsize=(9,9))\n",
        "sns.heatmap(cm, annot=True, fmt=\".3f\", linewidths=.5, square = True, cmap = 'Blues_r');\n",
        "plt.ylabel('Actual label');\n",
        "plt.xlabel('Predicted label');\n",
        "all_sample_title = 'Test set Accuracy: {0}'.format(acc3[1:])\n",
        "plt.title(all_sample_title, size = 15);"
      ],
      "execution_count": 0,
      "outputs": []
    }
  ]
}